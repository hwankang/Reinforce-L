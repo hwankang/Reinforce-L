{
  "nbformat": 4,
  "nbformat_minor": 0,
  "metadata": {
    "kernelspec": {
      "display_name": "Python 3",
      "language": "python",
      "name": "python3"
    },
    "language_info": {
      "codemirror_mode": {
        "name": "ipython",
        "version": 3
      },
      "file_extension": ".py",
      "mimetype": "text/x-python",
      "name": "python",
      "nbconvert_exporter": "python",
      "pygments_lexer": "ipython3",
      "version": "3.6.8"
    },
    "colab": {
      "name": "NXP RL OpenAI Gym Cartpole.ipynb",
      "provenance": [],
      "collapsed_sections": [],
      "toc_visible": true,
      "include_colab_link": true
    }
  },
  "cells": [
    {
      "cell_type": "markdown",
      "metadata": {
        "id": "view-in-github",
        "colab_type": "text"
      },
      "source": [
        "<a href=\"https://colab.research.google.com/github/hwankang/Reinforce-L/blob/main/NXP_RL_OpenAI_Gym_Cartpole.ipynb\" target=\"_parent\"><img src=\"https://colab.research.google.com/assets/colab-badge.svg\" alt=\"Open In Colab\"/></a>"
      ]
    },
    {
      "cell_type": "markdown",
      "metadata": {
        "id": "TEHWZrd0mKCq"
      },
      "source": [
        "# RL 강화학습 활용예제: OpenAI Gym 시리즈1. 막대 중심잡기\n",
        "\n",
        "* 강화학습의 구현원리를 이해할 수 있는 OpenAI의 '막대 중심잡기' 예제\n",
        "* 저자: RJBrooker https://github.com/RJBrooker/Q-learning-demo-Cartpole-V1\n",
        "* 강연: 동준상 (naebon1@gmail.com) / 2021.1.14 / KIDET 한국국방기술학회 인공지능 세미나\n",
        "* ! 이번 소스는 구글 코랩에서 실행될 때 몇 가지 문제가 발생하므로, 현재는 아나콘다 환경에서 실행만 가능"
      ]
    },
    {
      "cell_type": "markdown",
      "metadata": {
        "id": "c73GKqCimKC3"
      },
      "source": [
        "### Cartpole 예제 개요\n",
        "\n",
        "* A pole is attached by an un-actuated joint to a cart, which moves along\n",
        "* a frictionless track. The pendulum starts upright, and the goal is to\n",
        "* prevent it from falling over by increasing and reducing the cart's velocity.\n",
        "\n",
        "* This environment corresponds to the version of the cart-pole problem \n",
        "* described by Barto, Sutton, and Anderson\n",
        "* Reinforcement Learning: An Introduction - Stanford University\n",
        "* https://web.stanford.edu/class/psych209/Readings/SuttonBartoIPRLBook2ndEd.pdf"
      ]
    },
    {
      "cell_type": "markdown",
      "metadata": {
        "id": "TH2FpKgzmKC4"
      },
      "source": [
        "### 에피소드 종료 조건 / Episode Termination:\n",
        "\n",
        "* Pole Angle is more than 12 degrees.\n",
        "* Cart Position is more than 2.4 (center of the cart reaches the edge of the display).\n",
        "* Episode length is greater than 200.\n",
        "* Solved Requirements:\n",
        "* Considered solved when the average return is greater than or equal to 195.0 over 100 consecutive trials."
      ]
    },
    {
      "cell_type": "markdown",
      "metadata": {
        "id": "g1bKgiNlmKC4"
      },
      "source": [
        "## 라이브러리 설치 및 임포트"
      ]
    },
    {
      "cell_type": "code",
      "metadata": {
        "id": "0d7sUbz3mKC4"
      },
      "source": [
        "#!pip install --upgrade pip\n",
        "!pip install gym\n",
        "\n",
        "import gym\n",
        "\n",
        "import numpy as np \n",
        "import time, math, random\n",
        "from typing import Tuple"
      ],
      "execution_count": null,
      "outputs": []
    },
    {
      "cell_type": "code",
      "metadata": {
        "id": "8zmvYiqomKC5"
      },
      "source": [
        "!pip install sklearn\n",
        "\n",
        "# KBinsDiscretizer를 임포트하지 못하는 경우, 콘솔에서 conda update scikit-learn 실행\n",
        "from sklearn.preprocessing import KBinsDiscretizer"
      ],
      "execution_count": null,
      "outputs": []
    },
    {
      "cell_type": "markdown",
      "metadata": {
        "id": "xHk4LL0AmKC6"
      },
      "source": [
        "## CartPole-v1"
      ]
    },
    {
      "cell_type": "code",
      "metadata": {
        "id": "4HdBefiRmKC7"
      },
      "source": [
        "env = gym.make('CartPole-v1')"
      ],
      "execution_count": null,
      "outputs": []
    },
    {
      "cell_type": "code",
      "metadata": {
        "id": "tuX7Nf2ImKC7"
      },
      "source": [
        "env"
      ],
      "execution_count": null,
      "outputs": []
    },
    {
      "cell_type": "markdown",
      "metadata": {
        "id": "JwWR1r-ymKC8"
      },
      "source": [
        "## 학습 전 에이전트의 동작 확인 및 실행환경 시각화 / Visualise Enviroment\n",
        "\n",
        "* Visualise the eniroment/simulation"
      ]
    },
    {
      "cell_type": "code",
      "metadata": {
        "id": "AIvXeqPvmKC8"
      },
      "source": [
        "policy = lambda obs: 1\n",
        "\n",
        "for _ in range(5):\n",
        "    obs = env.reset()\n",
        "    for _ in range(80):\n",
        "        actions = policy(obs)\n",
        "        obs, reward, done, info = env.step(actions) \n",
        "        env.render()\n",
        "        time.sleep(0.05)\n",
        "\n",
        "env.close()"
      ],
      "execution_count": null,
      "outputs": []
    },
    {
      "cell_type": "code",
      "metadata": {
        "id": "c4-vlHeAmKC8"
      },
      "source": [
        "# Look at the docstring.\n",
        "?env.env"
      ],
      "execution_count": null,
      "outputs": []
    },
    {
      "cell_type": "markdown",
      "metadata": {
        "id": "p42fBum9mKC9"
      },
      "source": [
        "## 정책 입력 / Hard Coded Policy"
      ]
    },
    {
      "cell_type": "code",
      "metadata": {
        "id": "f-fMioKLmKC9"
      },
      "source": [
        "#Simple policy function \n",
        "policy = lambda _,__,___, tip_velocity : int( tip_velocity > 0 )"
      ],
      "execution_count": null,
      "outputs": []
    },
    {
      "cell_type": "markdown",
      "metadata": {
        "id": "Ny_IOeutmKC9"
      },
      "source": [
        "## Q-learning\n",
        "\n",
        "* Catpoles의 연속형 상태공간을 이산형 상태공간으로 변환\n",
        "* Convert Catpoles continues state space into discrete one."
      ]
    },
    {
      "cell_type": "code",
      "metadata": {
        "id": "eMdnrDxXmKC-"
      },
      "source": [
        "n_bins = ( 6 , 12 )\n",
        "lower_bounds = [ env.observation_space.low[2], -math.radians(50) ]\n",
        "upper_bounds = [ env.observation_space.high[2], math.radians(50) ]\n",
        "\n",
        "def discretizer( _ , __ , angle, pole_velocity ) -> Tuple[int,...]:\n",
        "    \"\"\"Convert continues state intro a discrete state\"\"\"\n",
        "    est = KBinsDiscretizer(n_bins=n_bins, encode='ordinal', strategy='uniform')\n",
        "    est.fit([lower_bounds, upper_bounds ])\n",
        "    return tuple(map(int,est.transform([[angle, pole_velocity]])[0]))"
      ],
      "execution_count": null,
      "outputs": []
    },
    {
      "cell_type": "markdown",
      "metadata": {
        "id": "26KTJmYfmKC-"
      },
      "source": [
        "## Q 값의 테이블을 영행렬로 초기화 / Initialise the Q value table with zeros."
      ]
    },
    {
      "cell_type": "code",
      "metadata": {
        "id": "R8VEJShRmKC_"
      },
      "source": [
        "Q_table = np.zeros(n_bins + (env.action_space.n,))\n",
        "Q_table.shape"
      ],
      "execution_count": null,
      "outputs": []
    },
    {
      "cell_type": "markdown",
      "metadata": {
        "id": "mIghiXkUmKC_"
      },
      "source": [
        "## 정책 함수 생성 / Create a policy function\n",
        "\n",
        "* Q-table을 이용하여 최고의 Q 값을 선택하는 정책 policy( ) 함수 정의\n",
        "* epsilon-greedy policy\n",
        "* Uses the Q-table to and greedly selecting the highest Q value"
      ]
    },
    {
      "cell_type": "code",
      "metadata": {
        "id": "c6yq5J8jmKC_"
      },
      "source": [
        "def policy( state : tuple ):\n",
        "    \"\"\"Choosing action based on epsilon-greedy policy\"\"\"\n",
        "    return np.argmax(Q_table[state])"
      ],
      "execution_count": null,
      "outputs": []
    },
    {
      "cell_type": "markdown",
      "metadata": {
        "id": "Yd1cLTBLmKDA"
      },
      "source": [
        "## Q 값의 갱신 / Update function"
      ]
    },
    {
      "cell_type": "code",
      "metadata": {
        "id": "l5EXRRcYmKDA"
      },
      "source": [
        "def new_Q_value( reward : float ,  new_state : tuple , discount_factor=1 ) -> float:\n",
        "    \"\"\"Temperal diffrence for updating Q-value of state-action pair\"\"\"\n",
        "    future_optimal_value = np.max(Q_table[new_state])\n",
        "    learned_value = reward + discount_factor * future_optimal_value\n",
        "    return learned_value"
      ],
      "execution_count": null,
      "outputs": []
    },
    {
      "cell_type": "markdown",
      "metadata": {
        "id": "a89n0sM4mKDA"
      },
      "source": [
        "## 학습효율 체감수준을 반영한 적응형 학습 / Decaying learning rate"
      ]
    },
    {
      "cell_type": "code",
      "metadata": {
        "id": "qWU7hA8TmKDB"
      },
      "source": [
        "# Adaptive learning of Learning Rate\n",
        "def learning_rate(n : int , min_rate=0.01 ) -> float  :\n",
        "    \"\"\"Decaying learning rate\"\"\"\n",
        "    return max(min_rate, min(1.0, 1.0 - math.log10((n + 1) / 25)))"
      ],
      "execution_count": null,
      "outputs": []
    },
    {
      "cell_type": "markdown",
      "metadata": {
        "id": "zFpC9ad_mKDB"
      },
      "source": [
        "## 탐색효율 체감수준을 반영한 적응형 학습 / Decaying exploration rate"
      ]
    },
    {
      "cell_type": "code",
      "metadata": {
        "id": "rz0HbSVumKDB"
      },
      "source": [
        "def exploration_rate(n : int, min_rate= 0.1 ) -> float :\n",
        "    \"\"\"Decaying exploration rate\"\"\"\n",
        "    return max(min_rate, min(1, 1.0 - math.log10((n  + 1) / 25)))"
      ],
      "execution_count": null,
      "outputs": []
    },
    {
      "cell_type": "markdown",
      "metadata": {
        "id": "DAuW8UJzmKDB"
      },
      "source": [
        "## 학습 후 에이전트의 동작 확인 및 실행환경 시각화\n",
        "\n",
        "* 에피소드 횟수: 10,000회\n",
        "* 연속형 상태정보를 이산형화"
      ]
    },
    {
      "cell_type": "code",
      "metadata": {
        "id": "q_OQjutHmKDC"
      },
      "source": [
        "n_episodes = 10000 \n",
        "for e in range(n_episodes):\n",
        "    \n",
        "    # Siscretize state into buckets\n",
        "    current_state, done = discretizer(*env.reset()), False\n",
        "    \n",
        "    while done==False:\n",
        "        \n",
        "        # policy action \n",
        "        action = policy(current_state) # exploit\n",
        "        \n",
        "        # insert random action\n",
        "        if np.random.random() < exploration_rate(e) : \n",
        "            action = env.action_space.sample() # explore \n",
        "         \n",
        "        # increment enviroment\n",
        "        obs, reward, done, _ = env.step(action)\n",
        "        new_state = discretizer(*obs)\n",
        "        \n",
        "        # Update Q-Table\n",
        "        lr = learning_rate(e)\n",
        "        learnt_value = new_Q_value(reward , new_state )\n",
        "        old_value = Q_table[current_state][action]\n",
        "        Q_table[current_state][action] = (1-lr)*old_value + lr*learnt_value\n",
        "        \n",
        "        current_state = new_state\n",
        "        \n",
        "        # Render the cartpole environment\n",
        "        env.render()"
      ],
      "execution_count": null,
      "outputs": []
    },
    {
      "cell_type": "code",
      "metadata": {
        "id": "Cum6cjoBmKDC"
      },
      "source": [
        ""
      ],
      "execution_count": null,
      "outputs": []
    }
  ]
}